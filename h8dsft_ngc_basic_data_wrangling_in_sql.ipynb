{
 "cells": [
  {
   "cell_type": "markdown",
   "metadata": {},
   "source": [
    "# Non Graded Challenge : DDL & DML (H8_FTDS_P0_NGC_5)\n",
    "\n",
    "FTDS Phase 0 - Week 2\n",
    "\n",
    "Name  : Michael Nathaniel\n",
    "\n",
    "Batch : HCK-009"
   ]
  },
  {
   "cell_type": "markdown",
   "metadata": {},
   "source": [
    "## Objective\n",
    "\n",
    "This Non Graded Challenge was created to evaluate the concept of Data Wrangling in SQL  with the aim of:\n",
    "1. Able to perform Data Definition Language (DDL) to create a table based on the information obtained.\n",
    "2. Able to use the SELECT, FROM, JOIN and GROUP BY keywords to get data from a certain column."
   ]
  },
  {
   "cell_type": "markdown",
   "metadata": {},
   "source": [
    "## Task"
   ]
  },
  {
   "cell_type": "markdown",
   "metadata": {},
   "source": [
    "#### #1 You are asked to create a customer and order table as follows \"Customers\" and \"Orders\". Determine the right datatype to create the two tables. Here are the structures and data for both tables:"
   ]
  },
  {
   "cell_type": "code",
   "execution_count": null,
   "metadata": {
    "vscode": {
     "languageId": "sql"
    }
   },
   "outputs": [],
   "source": [
    "-- Query Here #1\n",
    "\n",
    "-- Membuat tabel Customers\n",
    "CREATE TABLE Customers (\n",
    "\tcustomer_id SERIAL PRIMARY KEY,\n",
    "\tcustomer_name VARCHAR(250) NOT NULL,\n",
    "\tcity VARCHAR(50)\n",
    "\t);\n",
    "\n",
    "-- Membuat tabel Orders\n",
    "CREATE TABLE Orders (\n",
    "\torder_id SERIAL PRIMARY KEY,\n",
    "\tcustomer_id INT,\n",
    "\torder_date DATE,\n",
    "\ttotal_amount NUMERIC(5,2),\n",
    "\tFOREIGN KEY (customer_id) REFERENCES Customers(customer_id)\n",
    "\t);\n",
    "\n",
    "-- Memasukan value tabel Customers\n",
    "INSERT INTO Customers(customer_name, city)\n",
    "VALUES\n",
    "\t('John Doe', 'New York'),\n",
    "\t('Jane Smith', 'Los Angeles'),\n",
    "\t('David Johnson', 'Chicago')\n",
    "\n",
    "SELECT * FROM Customers -- Menampilkan tabel Customers\n",
    "\n",
    "-- Memasukan value tabel Orders\n",
    "INSERT INTO Orders(customer_id, order_date, total_amount)\n",
    "VALUES\n",
    "\t(1, '2022/01/10', 100),\n",
    "\t(1, '2022/02/15', 150),\n",
    "\t(2, '2022/03/20', 200),\n",
    "\t(3, '2022/04/25', 50)\n",
    "\t\n",
    "SELECT * FROM Orders -- Menampilkan tabel Orders"
   ]
  },
  {
   "cell_type": "markdown",
   "metadata": {},
   "source": [
    "#### #2 Once you have successfully created both tables, create a query to retrieve the total number of orders made by each customer along with the customer name from the \"Customers\" and \"Orders\" tables. Expected Output:"
   ]
  },
  {
   "cell_type": "code",
   "execution_count": null,
   "metadata": {
    "vscode": {
     "languageId": "sql"
    }
   },
   "outputs": [],
   "source": [
    "-- Query Here #2\n",
    "\n",
    "-- Memprint tabel yang memiliki kolom customer_name dan juga total_orders -\n",
    "-- yang meruapakan hasil dari menghitung banyaknya transaksi yang dilakukan setiap customer -\n",
    "-- yang kemudian diurutkan berdasarkan customer_id\n",
    "SELECT customer_name, COUNT(Orders.customer_id) AS total_orders\n",
    "FROM Customers JOIN Orders ON Customers.customer_id = Orders.customer_id\n",
    "GROUP BY Customers.customer_id"
   ]
  },
  {
   "cell_type": "markdown",
   "metadata": {},
   "source": [
    "## Submission\n",
    "1. Create a file to store your answers. \n",
    "2. Save this assignment with filename : h8dsft_ngc_basic_data_wrangling_in_sql.ipynb.\n",
    "3. Push your answer into your own GitHub repository."
   ]
  }
 ],
 "metadata": {
  "language_info": {
   "name": "python"
  },
  "orig_nbformat": 4
 },
 "nbformat": 4,
 "nbformat_minor": 2
}
